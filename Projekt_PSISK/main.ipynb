{
 "cells": [
  {
   "cell_type": "code",
   "execution_count": 25,
   "metadata": {},
   "outputs": [],
   "source": [
    "import pandas as pd"
   ]
  },
  {
   "cell_type": "code",
   "execution_count": 31,
   "metadata": {},
   "outputs": [
    {
     "data": {
      "text/html": "<div>\n<style scoped>\n    .dataframe tbody tr th:only-of-type {\n        vertical-align: middle;\n    }\n\n    .dataframe tbody tr th {\n        vertical-align: top;\n    }\n\n    .dataframe thead th {\n        text-align: right;\n    }\n</style>\n<table border=\"1\" class=\"dataframe\">\n  <thead>\n    <tr style=\"text-align: right;\">\n      <th></th>\n      <th>0</th>\n      <th>1</th>\n      <th>2</th>\n      <th>3</th>\n    </tr>\n  </thead>\n  <tbody>\n    <tr>\n      <th>0</th>\n      <td>14:30:37.003323</td>\n      <td>192.168.0.1.43236</td>\n      <td>239.255.255.250.1900:</td>\n      <td>UDP</td>\n    </tr>\n    <tr>\n      <th>1</th>\n      <td>14:30:37.003327</td>\n      <td>192.168.0.1.43236</td>\n      <td>239.255.255.250.1900:</td>\n      <td>UDP</td>\n    </tr>\n    <tr>\n      <th>2</th>\n      <td>14:30:37.003328</td>\n      <td>192.168.0.1.43236</td>\n      <td>239.255.255.250.1900:</td>\n      <td>UDP</td>\n    </tr>\n    <tr>\n      <th>3</th>\n      <td>14:30:37.003401</td>\n      <td>192.168.0.1.43236</td>\n      <td>239.255.255.250.1900:</td>\n      <td>UDP</td>\n    </tr>\n    <tr>\n      <th>4</th>\n      <td>14:30:37.004021</td>\n      <td>192.168.0.1.43236</td>\n      <td>239.255.255.250.1900:</td>\n      <td>UDP</td>\n    </tr>\n    <tr>\n      <th>...</th>\n      <td>...</td>\n      <td>...</td>\n      <td>...</td>\n      <td>...</td>\n    </tr>\n    <tr>\n      <th>195</th>\n      <td>14:31:06.093431</td>\n      <td>192.168.0.102.62956</td>\n      <td>10.1.1.7.7680:</td>\n      <td>Flags</td>\n    </tr>\n    <tr>\n      <th>196</th>\n      <td>14:31:06.322611</td>\n      <td>192.168.0.102.62955</td>\n      <td>192.168.21.20.7680:</td>\n      <td>Flags</td>\n    </tr>\n    <tr>\n      <th>197</th>\n      <td>14:31:07.095630</td>\n      <td>192.168.0.102.62956</td>\n      <td>10.1.1.7.7680:</td>\n      <td>Flags</td>\n    </tr>\n    <tr>\n      <th>198</th>\n      <td>14:31:07.739979</td>\n      <td>192.168.0.102.61730</td>\n      <td>162.159.133.234.443:</td>\n      <td>Flags</td>\n    </tr>\n    <tr>\n      <th>199</th>\n      <td>14:31:07.767365</td>\n      <td>162.159.133.234.443</td>\n      <td>192.168.0.102.61730:</td>\n      <td>Flags</td>\n    </tr>\n  </tbody>\n</table>\n<p>200 rows × 4 columns</p>\n</div>",
      "text/plain": "                   0                    1                      2      3\n0    14:30:37.003323    192.168.0.1.43236  239.255.255.250.1900:    UDP\n1    14:30:37.003327    192.168.0.1.43236  239.255.255.250.1900:    UDP\n2    14:30:37.003328    192.168.0.1.43236  239.255.255.250.1900:    UDP\n3    14:30:37.003401    192.168.0.1.43236  239.255.255.250.1900:    UDP\n4    14:30:37.004021    192.168.0.1.43236  239.255.255.250.1900:    UDP\n..               ...                  ...                    ...    ...\n195  14:31:06.093431  192.168.0.102.62956         10.1.1.7.7680:  Flags\n196  14:31:06.322611  192.168.0.102.62955    192.168.21.20.7680:  Flags\n197  14:31:07.095630  192.168.0.102.62956         10.1.1.7.7680:  Flags\n198  14:31:07.739979  192.168.0.102.61730   162.159.133.234.443:  Flags\n199  14:31:07.767365  162.159.133.234.443   192.168.0.102.61730:  Flags\n\n[200 rows x 4 columns]"
     },
     "execution_count": 31,
     "metadata": {},
     "output_type": "execute_result"
    }
   ],
   "source": [
    "data = pd.read_csv('data_opt1.txt', sep=';',header=None)\n",
    "data"
   ]
  },
  {
   "cell_type": "code",
   "execution_count": null,
   "metadata": {},
   "outputs": [],
   "source": []
  }
 ],
 "metadata": {
  "kernelspec": {
   "display_name": "Python 3.9.1 64-bit ('AD_ML_venv': venv)",
   "name": "python391jvsc74a57bd03f852f8245468f7174b6e3ba0feff0b432c8b81480928caf6a0b245ce0f5b55c"
  },
  "language_info": {
   "name": "python",
   "version": ""
  },
  "metadata": {
   "interpreter": {
    "hash": "3f852f8245468f7174b6e3ba0feff0b432c8b81480928caf6a0b245ce0f5b55c"
   }
  },
  "orig_nbformat": 2
 },
 "nbformat": 4,
 "nbformat_minor": 2
}